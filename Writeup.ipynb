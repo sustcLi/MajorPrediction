{
 "cells": [
  {
   "cell_type": "markdown",
   "metadata": {},
   "source": [
    "## Description of background and data set\n",
    "This data set is desensitized data of students' registration on courses，including course code, grade and year when the student selected this course。 Also the major is provided as the target.\n",
    "The task is to predict students' majors based on their registration history."
   ]
  },
  {
   "cell_type": "markdown",
   "metadata": {
    "colab_type": "text",
    "id": "iHjnStiiznTd"
   },
   "source": [
    "## Import the data, and emplore"
   ]
  },
  {
   "cell_type": "code",
   "execution_count": 1,
   "metadata": {
    "colab": {},
    "colab_type": "code",
    "id": "CZ3bO5oJznTf"
   },
   "outputs": [],
   "source": [
    "import pandas as pd\n",
    "import numpy as np\n",
    "from sklearn import preprocessing\n",
    "import matplotlib.pyplot as plt\n",
    "\n",
    "from sklearn.naive_bayes import BernoulliNB\n",
    "from sklearn.decomposition import PCA\n",
    "from sklearn.linear_model import LogisticRegression\n",
    "from sklearn.model_selection import train_test_split\n",
    "from sklearn import metrics\n",
    "def encode_text_dummy(df, name):\n",
    "    dummies = pd.get_dummies(df[name])\n",
    "    for x in dummies.columns:\n",
    "        dummy_name = \"{}-{}\".format(name, x)\n",
    "        df[dummy_name] = dummies[x]\n",
    "    df.drop(name, axis=1, inplace=True)\n",
    "def encode_text_index(df, name):\n",
    "    le = preprocessing.LabelEncoder()\n",
    "    df[name] = le.fit_transform(df[name])\n",
    "    return le.classes_    \n",
    "%matplotlib inline"
   ]
  },
  {
   "cell_type": "code",
   "execution_count": 2,
   "metadata": {
    "colab": {},
    "colab_type": "code",
    "id": "5ZKpGECkznTl",
    "outputId": "08ded73b-6052-4f89-e977-462eca0c7c7d"
   },
   "outputs": [
    {
     "data": {
      "text/html": [
       "<div>\n",
       "<style scoped>\n",
       "    .dataframe tbody tr th:only-of-type {\n",
       "        vertical-align: middle;\n",
       "    }\n",
       "\n",
       "    .dataframe tbody tr th {\n",
       "        vertical-align: top;\n",
       "    }\n",
       "\n",
       "    .dataframe thead th {\n",
       "        text-align: right;\n",
       "    }\n",
       "</style>\n",
       "<table border=\"1\" class=\"dataframe\">\n",
       "  <thead>\n",
       "    <tr style=\"text-align: right;\">\n",
       "      <th></th>\n",
       "      <th>student_id</th>\n",
       "      <th>level</th>\n",
       "      <th>course</th>\n",
       "      <th>grade</th>\n",
       "      <th>major</th>\n",
       "    </tr>\n",
       "  </thead>\n",
       "  <tbody>\n",
       "    <tr>\n",
       "      <th>0</th>\n",
       "      <td>ppVGBRKhtqqyxnVO</td>\n",
       "      <td>Freshman</td>\n",
       "      <td>SPAN:100</td>\n",
       "      <td>A</td>\n",
       "      <td>Business</td>\n",
       "    </tr>\n",
       "    <tr>\n",
       "      <th>1</th>\n",
       "      <td>PiPkSgMGbFIu5RwR</td>\n",
       "      <td>Freshman</td>\n",
       "      <td>CSI:160</td>\n",
       "      <td>S</td>\n",
       "      <td>International Relations</td>\n",
       "    </tr>\n",
       "    <tr>\n",
       "      <th>2</th>\n",
       "      <td>PiPkSgMGbFIu5RwR</td>\n",
       "      <td>Sophomore</td>\n",
       "      <td>EES:107</td>\n",
       "      <td>C</td>\n",
       "      <td>International Relations</td>\n",
       "    </tr>\n",
       "    <tr>\n",
       "      <th>3</th>\n",
       "      <td>PiPkSgMGbFIu5RwR</td>\n",
       "      <td>Senior</td>\n",
       "      <td>SPAN:201</td>\n",
       "      <td>B</td>\n",
       "      <td>International Relations</td>\n",
       "    </tr>\n",
       "    <tr>\n",
       "      <th>4</th>\n",
       "      <td>PiPkSgMGbFIu5RwR</td>\n",
       "      <td>Junior</td>\n",
       "      <td>ENTR:200</td>\n",
       "      <td>B+</td>\n",
       "      <td>International Relations</td>\n",
       "    </tr>\n",
       "    <tr>\n",
       "      <th>5</th>\n",
       "      <td>PiPkSgMGbFIu5RwR</td>\n",
       "      <td>Sophomore</td>\n",
       "      <td>SPAN:140</td>\n",
       "      <td>D+</td>\n",
       "      <td>International Relations</td>\n",
       "    </tr>\n",
       "    <tr>\n",
       "      <th>6</th>\n",
       "      <td>PiPkSgMGbFIu5RwR</td>\n",
       "      <td>Freshman</td>\n",
       "      <td>POLI:140</td>\n",
       "      <td>C</td>\n",
       "      <td>International Relations</td>\n",
       "    </tr>\n",
       "    <tr>\n",
       "      <th>7</th>\n",
       "      <td>PiPkSgMGbFIu5RwR</td>\n",
       "      <td>Sophomore</td>\n",
       "      <td>KORE:210</td>\n",
       "      <td>A</td>\n",
       "      <td>International Relations</td>\n",
       "    </tr>\n",
       "    <tr>\n",
       "      <th>8</th>\n",
       "      <td>PiPkSgMGbFIu5RwR</td>\n",
       "      <td>Sophomore</td>\n",
       "      <td>SPAN:309</td>\n",
       "      <td>A</td>\n",
       "      <td>International Relations</td>\n",
       "    </tr>\n",
       "    <tr>\n",
       "      <th>9</th>\n",
       "      <td>PiPkSgMGbFIu5RwR</td>\n",
       "      <td>Sophomore</td>\n",
       "      <td>ENTR:134</td>\n",
       "      <td>B</td>\n",
       "      <td>International Relations</td>\n",
       "    </tr>\n",
       "  </tbody>\n",
       "</table>\n",
       "</div>"
      ],
      "text/plain": [
       "         student_id      level    course grade                    major\n",
       "0  ppVGBRKhtqqyxnVO   Freshman  SPAN:100     A                 Business\n",
       "1  PiPkSgMGbFIu5RwR   Freshman   CSI:160     S  International Relations\n",
       "2  PiPkSgMGbFIu5RwR  Sophomore   EES:107     C  International Relations\n",
       "3  PiPkSgMGbFIu5RwR     Senior  SPAN:201     B  International Relations\n",
       "4  PiPkSgMGbFIu5RwR     Junior  ENTR:200    B+  International Relations\n",
       "5  PiPkSgMGbFIu5RwR  Sophomore  SPAN:140    D+  International Relations\n",
       "6  PiPkSgMGbFIu5RwR   Freshman  POLI:140     C  International Relations\n",
       "7  PiPkSgMGbFIu5RwR  Sophomore  KORE:210     A  International Relations\n",
       "8  PiPkSgMGbFIu5RwR  Sophomore  SPAN:309     A  International Relations\n",
       "9  PiPkSgMGbFIu5RwR  Sophomore  ENTR:134     B  International Relations"
      ]
     },
     "execution_count": 2,
     "metadata": {},
     "output_type": "execute_result"
    }
   ],
   "source": [
    "df = pd.read_csv(\"training.csv\",sep=\"|\")\n",
    "df.head(10)"
   ]
  },
  {
   "cell_type": "code",
   "execution_count": 3,
   "metadata": {},
   "outputs": [
    {
     "data": {
      "text/plain": [
       "(97276, 5)"
      ]
     },
     "execution_count": 3,
     "metadata": {},
     "output_type": "execute_result"
    }
   ],
   "source": [
    "df.shape"
   ]
  },
  {
   "cell_type": "code",
   "execution_count": 4,
   "metadata": {
    "colab": {},
    "colab_type": "code",
    "id": "XHbwYlUFznTq",
    "outputId": "953c8189-8daf-46e8-d9df-a994ea867269"
   },
   "outputs": [
    {
     "data": {
      "text/html": [
       "<div>\n",
       "<style scoped>\n",
       "    .dataframe tbody tr th:only-of-type {\n",
       "        vertical-align: middle;\n",
       "    }\n",
       "\n",
       "    .dataframe tbody tr th {\n",
       "        vertical-align: top;\n",
       "    }\n",
       "\n",
       "    .dataframe thead th {\n",
       "        text-align: right;\n",
       "    }\n",
       "</style>\n",
       "<table border=\"1\" class=\"dataframe\">\n",
       "  <thead>\n",
       "    <tr style=\"text-align: right;\">\n",
       "      <th></th>\n",
       "      <th>student_id</th>\n",
       "      <th>level</th>\n",
       "      <th>course</th>\n",
       "      <th>grade</th>\n",
       "      <th>major</th>\n",
       "    </tr>\n",
       "  </thead>\n",
       "  <tbody>\n",
       "    <tr>\n",
       "      <th>count</th>\n",
       "      <td>97276</td>\n",
       "      <td>97276</td>\n",
       "      <td>97276</td>\n",
       "      <td>97276</td>\n",
       "      <td>97276</td>\n",
       "    </tr>\n",
       "    <tr>\n",
       "      <th>unique</th>\n",
       "      <td>10000</td>\n",
       "      <td>4</td>\n",
       "      <td>2721</td>\n",
       "      <td>21</td>\n",
       "      <td>81</td>\n",
       "    </tr>\n",
       "    <tr>\n",
       "      <th>top</th>\n",
       "      <td>cJdq8OlOg2x4drwW</td>\n",
       "      <td>Senior</td>\n",
       "      <td>RHET:103</td>\n",
       "      <td>A</td>\n",
       "      <td>Psychology</td>\n",
       "    </tr>\n",
       "    <tr>\n",
       "      <th>freq</th>\n",
       "      <td>90</td>\n",
       "      <td>30367</td>\n",
       "      <td>1685</td>\n",
       "      <td>18729</td>\n",
       "      <td>10274</td>\n",
       "    </tr>\n",
       "  </tbody>\n",
       "</table>\n",
       "</div>"
      ],
      "text/plain": [
       "              student_id   level    course  grade       major\n",
       "count              97276   97276     97276  97276       97276\n",
       "unique             10000       4      2721     21          81\n",
       "top     cJdq8OlOg2x4drwW  Senior  RHET:103      A  Psychology\n",
       "freq                  90   30367      1685  18729       10274"
      ]
     },
     "execution_count": 4,
     "metadata": {},
     "output_type": "execute_result"
    }
   ],
   "source": [
    "df.describe() \n",
    "#according to the data,there are many courses and grades，although those are categorical features, it would be not appropriate \n",
    "# to do one-hot encoding, which would induce high dimensionality."
   ]
  },
  {
   "cell_type": "markdown",
   "metadata": {},
   "source": [
    "According to the data,there are many courses and grades，although those are categorical features, it would be not appropriate \n",
    " to do one-hot encoding, which would induce high dimensionality."
   ]
  },
  {
   "cell_type": "code",
   "execution_count": 5,
   "metadata": {
    "colab": {},
    "colab_type": "code",
    "id": "06kU49C_znTu",
    "outputId": "bb59cf87-273a-45e9-cd14-8ebc538de275"
   },
   "outputs": [
    {
     "data": {
      "text/plain": [
       "student_id        student_id      \n",
       "01DiJuoJAB395ucJ  01DiJuoJAB395ucJ     1\n",
       "01MhxeQl5FhRsf3f  01MhxeQl5FhRsf3f     1\n",
       "01W7KB8TDNWNx4YW  01W7KB8TDNWNx4YW    14\n",
       "042Rmpv5B2kXdfBR  042Rmpv5B2kXdfBR     1\n",
       "04DuzbneGqk0o0jY  04DuzbneGqk0o0jY     1\n",
       "04TIITMjjPIVIkES  04TIITMjjPIVIkES     1\n",
       "04vxIYe6guefIhGD  04vxIYe6guefIhGD    37\n",
       "04yPdcfnDzHbSIsS  04yPdcfnDzHbSIsS    37\n",
       "04zKgh2DJS9owZNA  04zKgh2DJS9owZNA     1\n",
       "059Ssc6DVmDrBM7o  059Ssc6DVmDrBM7o    49\n",
       "Name: student_id, dtype: int64"
      ]
     },
     "execution_count": 5,
     "metadata": {},
     "output_type": "execute_result"
    }
   ],
   "source": [
    "df.groupby(by = \"student_id\")[\"student_id\"].value_counts().head(10)#可以看到统计很不均，很多学生只统计了一门课，有些学生上了很多门课，因此打算放弃课程上的特征选择"
   ]
  },
  {
   "cell_type": "markdown",
   "metadata": {
    "colab_type": "text",
    "id": "U-OK9SJwznTy"
   },
   "source": [
    "### Analysis on the data\n",
    "Using functions such as value_counts，we can see that data distribution is not balanced，and there is long tail effect. So I think using course codes would cause some problems. Such as, many courses are only selected by only one student. Loss of generalization may occur.\n",
    "\n",
    "Therefore I decide to use the department of the course as feature, which is more general and more balanced."
   ]
  },
  {
   "cell_type": "code",
   "execution_count": 6,
   "metadata": {
    "colab": {},
    "colab_type": "code",
    "id": "dAmFwpprznTz"
   },
   "outputs": [],
   "source": [
    "df[\"Courese_DPT\"] = df[\"course\"].apply(lambda x: x.split(sep=\":\")[0])#Set the department code in course code as a feature"
   ]
  },
  {
   "cell_type": "code",
   "execution_count": 7,
   "metadata": {
    "colab": {},
    "colab_type": "code",
    "id": "ykQGI5NiznT1"
   },
   "outputs": [],
   "source": [
    "df[\"Course_Num\"] = df[\"course\"].apply(lambda x: x.split(sep=\":\")[1])#Set the number code in course code as a feature"
   ]
  },
  {
   "cell_type": "code",
   "execution_count": 8,
   "metadata": {
    "colab": {},
    "colab_type": "code",
    "id": "6W5AGXUzznT3",
    "outputId": "795e10c1-f1a4-4bb7-cc1d-cd49350dcce5"
   },
   "outputs": [
    {
     "data": {
      "text/html": [
       "<div>\n",
       "<style scoped>\n",
       "    .dataframe tbody tr th:only-of-type {\n",
       "        vertical-align: middle;\n",
       "    }\n",
       "\n",
       "    .dataframe tbody tr th {\n",
       "        vertical-align: top;\n",
       "    }\n",
       "\n",
       "    .dataframe thead th {\n",
       "        text-align: right;\n",
       "    }\n",
       "</style>\n",
       "<table border=\"1\" class=\"dataframe\">\n",
       "  <thead>\n",
       "    <tr style=\"text-align: right;\">\n",
       "      <th></th>\n",
       "      <th>student_id</th>\n",
       "      <th>level</th>\n",
       "      <th>course</th>\n",
       "      <th>grade</th>\n",
       "      <th>major</th>\n",
       "      <th>Courese_DPT</th>\n",
       "      <th>Course_Num</th>\n",
       "    </tr>\n",
       "  </thead>\n",
       "  <tbody>\n",
       "    <tr>\n",
       "      <th>0</th>\n",
       "      <td>ppVGBRKhtqqyxnVO</td>\n",
       "      <td>Freshman</td>\n",
       "      <td>SPAN:100</td>\n",
       "      <td>A</td>\n",
       "      <td>Business</td>\n",
       "      <td>SPAN</td>\n",
       "      <td>100</td>\n",
       "    </tr>\n",
       "    <tr>\n",
       "      <th>1</th>\n",
       "      <td>PiPkSgMGbFIu5RwR</td>\n",
       "      <td>Freshman</td>\n",
       "      <td>CSI:160</td>\n",
       "      <td>S</td>\n",
       "      <td>International Relations</td>\n",
       "      <td>CSI</td>\n",
       "      <td>160</td>\n",
       "    </tr>\n",
       "    <tr>\n",
       "      <th>2</th>\n",
       "      <td>PiPkSgMGbFIu5RwR</td>\n",
       "      <td>Sophomore</td>\n",
       "      <td>EES:107</td>\n",
       "      <td>C</td>\n",
       "      <td>International Relations</td>\n",
       "      <td>EES</td>\n",
       "      <td>107</td>\n",
       "    </tr>\n",
       "    <tr>\n",
       "      <th>3</th>\n",
       "      <td>PiPkSgMGbFIu5RwR</td>\n",
       "      <td>Senior</td>\n",
       "      <td>SPAN:201</td>\n",
       "      <td>B</td>\n",
       "      <td>International Relations</td>\n",
       "      <td>SPAN</td>\n",
       "      <td>201</td>\n",
       "    </tr>\n",
       "    <tr>\n",
       "      <th>4</th>\n",
       "      <td>PiPkSgMGbFIu5RwR</td>\n",
       "      <td>Junior</td>\n",
       "      <td>ENTR:200</td>\n",
       "      <td>B+</td>\n",
       "      <td>International Relations</td>\n",
       "      <td>ENTR</td>\n",
       "      <td>200</td>\n",
       "    </tr>\n",
       "  </tbody>\n",
       "</table>\n",
       "</div>"
      ],
      "text/plain": [
       "         student_id      level    course grade                    major  \\\n",
       "0  ppVGBRKhtqqyxnVO   Freshman  SPAN:100     A                 Business   \n",
       "1  PiPkSgMGbFIu5RwR   Freshman   CSI:160     S  International Relations   \n",
       "2  PiPkSgMGbFIu5RwR  Sophomore   EES:107     C  International Relations   \n",
       "3  PiPkSgMGbFIu5RwR     Senior  SPAN:201     B  International Relations   \n",
       "4  PiPkSgMGbFIu5RwR     Junior  ENTR:200    B+  International Relations   \n",
       "\n",
       "  Courese_DPT Course_Num  \n",
       "0        SPAN        100  \n",
       "1         CSI        160  \n",
       "2         EES        107  \n",
       "3        SPAN        201  \n",
       "4        ENTR        200  "
      ]
     },
     "execution_count": 8,
     "metadata": {},
     "output_type": "execute_result"
    }
   ],
   "source": [
    "df.head(5)#Show the data"
   ]
  },
  {
   "cell_type": "code",
   "execution_count": 9,
   "metadata": {
    "colab": {},
    "colab_type": "code",
    "id": "4SAtoM7AznT6",
    "outputId": "7ff1cccc-a238-4a66-c2cd-4f87f463e6f2"
   },
   "outputs": [
    {
     "data": {
      "text/html": [
       "<div>\n",
       "<style scoped>\n",
       "    .dataframe tbody tr th:only-of-type {\n",
       "        vertical-align: middle;\n",
       "    }\n",
       "\n",
       "    .dataframe tbody tr th {\n",
       "        vertical-align: top;\n",
       "    }\n",
       "\n",
       "    .dataframe thead th {\n",
       "        text-align: right;\n",
       "    }\n",
       "</style>\n",
       "<table border=\"1\" class=\"dataframe\">\n",
       "  <thead>\n",
       "    <tr style=\"text-align: right;\">\n",
       "      <th></th>\n",
       "      <th>student_id</th>\n",
       "      <th>level</th>\n",
       "      <th>course</th>\n",
       "      <th>grade</th>\n",
       "      <th>major</th>\n",
       "      <th>Courese_DPT</th>\n",
       "      <th>Course_Num</th>\n",
       "    </tr>\n",
       "  </thead>\n",
       "  <tbody>\n",
       "    <tr>\n",
       "      <th>count</th>\n",
       "      <td>97276</td>\n",
       "      <td>97276</td>\n",
       "      <td>97276</td>\n",
       "      <td>97276</td>\n",
       "      <td>97276</td>\n",
       "      <td>97276</td>\n",
       "      <td>97276</td>\n",
       "    </tr>\n",
       "    <tr>\n",
       "      <th>unique</th>\n",
       "      <td>10000</td>\n",
       "      <td>4</td>\n",
       "      <td>2721</td>\n",
       "      <td>21</td>\n",
       "      <td>81</td>\n",
       "      <td>182</td>\n",
       "      <td>362</td>\n",
       "    </tr>\n",
       "    <tr>\n",
       "      <th>top</th>\n",
       "      <td>cJdq8OlOg2x4drwW</td>\n",
       "      <td>Senior</td>\n",
       "      <td>RHET:103</td>\n",
       "      <td>A</td>\n",
       "      <td>Psychology</td>\n",
       "      <td>PSY</td>\n",
       "      <td>100</td>\n",
       "    </tr>\n",
       "    <tr>\n",
       "      <th>freq</th>\n",
       "      <td>90</td>\n",
       "      <td>30367</td>\n",
       "      <td>1685</td>\n",
       "      <td>18729</td>\n",
       "      <td>10274</td>\n",
       "      <td>4373</td>\n",
       "      <td>6591</td>\n",
       "    </tr>\n",
       "  </tbody>\n",
       "</table>\n",
       "</div>"
      ],
      "text/plain": [
       "              student_id   level    course  grade       major Courese_DPT  \\\n",
       "count              97276   97276     97276  97276       97276       97276   \n",
       "unique             10000       4      2721     21          81         182   \n",
       "top     cJdq8OlOg2x4drwW  Senior  RHET:103      A  Psychology         PSY   \n",
       "freq                  90   30367      1685  18729       10274        4373   \n",
       "\n",
       "       Course_Num  \n",
       "count       97276  \n",
       "unique        362  \n",
       "top           100  \n",
       "freq         6591  "
      ]
     },
     "execution_count": 9,
     "metadata": {},
     "output_type": "execute_result"
    }
   ],
   "source": [
    "df.describe() # Now we can see that there are only 182 departments. \n",
    "#Dimensionality is  highly reduced and the ability of generalization is enhanced"
   ]
  },
  {
   "cell_type": "markdown",
   "metadata": {
    "colab_type": "text",
    "id": "TIXAwfz9znT-"
   },
   "source": [
    "Do one hot encoding on department as this is a categorical feature and there is no order in it"
   ]
  },
  {
   "cell_type": "markdown",
   "metadata": {
    "colab_type": "text",
    "id": "fg558OIcznT-"
   },
   "source": [
    "## Training\n",
    "### 1. Predicting major based on only one history\n",
    "Use course code(high dimension) as the feature"
   ]
  },
  {
   "cell_type": "code",
   "execution_count": 10,
   "metadata": {
    "colab": {},
    "colab_type": "code",
    "id": "dV93_sQ9znT_"
   },
   "outputs": [],
   "source": [
    "encode_text_dummy(df,\"course\")"
   ]
  },
  {
   "cell_type": "code",
   "execution_count": 11,
   "metadata": {
    "colab": {},
    "colab_type": "code",
    "id": "lNgV_LJtznUB",
    "outputId": "8aee5789-b0fa-45af-df54-451c9c175ce2"
   },
   "outputs": [
    {
     "data": {
      "text/html": [
       "<div>\n",
       "<style scoped>\n",
       "    .dataframe tbody tr th:only-of-type {\n",
       "        vertical-align: middle;\n",
       "    }\n",
       "\n",
       "    .dataframe tbody tr th {\n",
       "        vertical-align: top;\n",
       "    }\n",
       "\n",
       "    .dataframe thead th {\n",
       "        text-align: right;\n",
       "    }\n",
       "</style>\n",
       "<table border=\"1\" class=\"dataframe\">\n",
       "  <thead>\n",
       "    <tr style=\"text-align: right;\">\n",
       "      <th></th>\n",
       "      <th>student_id</th>\n",
       "      <th>level</th>\n",
       "      <th>grade</th>\n",
       "      <th>major</th>\n",
       "      <th>Courese_DPT</th>\n",
       "      <th>Course_Num</th>\n",
       "      <th>course-006:100</th>\n",
       "      <th>course-ABRD:301</th>\n",
       "      <th>course-ABRD:302</th>\n",
       "      <th>course-ABRD:303</th>\n",
       "      <th>...</th>\n",
       "      <th>course-WRIT:100</th>\n",
       "      <th>course-WRIT:140</th>\n",
       "      <th>course-WRIT:160</th>\n",
       "      <th>course-WRIT:310</th>\n",
       "      <th>course-WRIT:326</th>\n",
       "      <th>course-WRIT:374</th>\n",
       "      <th>course-WRIT:390</th>\n",
       "      <th>course-WRIT:400</th>\n",
       "      <th>course-WRIT:474</th>\n",
       "      <th>course-WRIT:476</th>\n",
       "    </tr>\n",
       "  </thead>\n",
       "  <tbody>\n",
       "    <tr>\n",
       "      <th>0</th>\n",
       "      <td>ppVGBRKhtqqyxnVO</td>\n",
       "      <td>Freshman</td>\n",
       "      <td>A</td>\n",
       "      <td>Business</td>\n",
       "      <td>SPAN</td>\n",
       "      <td>100</td>\n",
       "      <td>0</td>\n",
       "      <td>0</td>\n",
       "      <td>0</td>\n",
       "      <td>0</td>\n",
       "      <td>...</td>\n",
       "      <td>0</td>\n",
       "      <td>0</td>\n",
       "      <td>0</td>\n",
       "      <td>0</td>\n",
       "      <td>0</td>\n",
       "      <td>0</td>\n",
       "      <td>0</td>\n",
       "      <td>0</td>\n",
       "      <td>0</td>\n",
       "      <td>0</td>\n",
       "    </tr>\n",
       "    <tr>\n",
       "      <th>1</th>\n",
       "      <td>PiPkSgMGbFIu5RwR</td>\n",
       "      <td>Freshman</td>\n",
       "      <td>S</td>\n",
       "      <td>International Relations</td>\n",
       "      <td>CSI</td>\n",
       "      <td>160</td>\n",
       "      <td>0</td>\n",
       "      <td>0</td>\n",
       "      <td>0</td>\n",
       "      <td>0</td>\n",
       "      <td>...</td>\n",
       "      <td>0</td>\n",
       "      <td>0</td>\n",
       "      <td>0</td>\n",
       "      <td>0</td>\n",
       "      <td>0</td>\n",
       "      <td>0</td>\n",
       "      <td>0</td>\n",
       "      <td>0</td>\n",
       "      <td>0</td>\n",
       "      <td>0</td>\n",
       "    </tr>\n",
       "    <tr>\n",
       "      <th>2</th>\n",
       "      <td>PiPkSgMGbFIu5RwR</td>\n",
       "      <td>Sophomore</td>\n",
       "      <td>C</td>\n",
       "      <td>International Relations</td>\n",
       "      <td>EES</td>\n",
       "      <td>107</td>\n",
       "      <td>0</td>\n",
       "      <td>0</td>\n",
       "      <td>0</td>\n",
       "      <td>0</td>\n",
       "      <td>...</td>\n",
       "      <td>0</td>\n",
       "      <td>0</td>\n",
       "      <td>0</td>\n",
       "      <td>0</td>\n",
       "      <td>0</td>\n",
       "      <td>0</td>\n",
       "      <td>0</td>\n",
       "      <td>0</td>\n",
       "      <td>0</td>\n",
       "      <td>0</td>\n",
       "    </tr>\n",
       "    <tr>\n",
       "      <th>3</th>\n",
       "      <td>PiPkSgMGbFIu5RwR</td>\n",
       "      <td>Senior</td>\n",
       "      <td>B</td>\n",
       "      <td>International Relations</td>\n",
       "      <td>SPAN</td>\n",
       "      <td>201</td>\n",
       "      <td>0</td>\n",
       "      <td>0</td>\n",
       "      <td>0</td>\n",
       "      <td>0</td>\n",
       "      <td>...</td>\n",
       "      <td>0</td>\n",
       "      <td>0</td>\n",
       "      <td>0</td>\n",
       "      <td>0</td>\n",
       "      <td>0</td>\n",
       "      <td>0</td>\n",
       "      <td>0</td>\n",
       "      <td>0</td>\n",
       "      <td>0</td>\n",
       "      <td>0</td>\n",
       "    </tr>\n",
       "    <tr>\n",
       "      <th>4</th>\n",
       "      <td>PiPkSgMGbFIu5RwR</td>\n",
       "      <td>Junior</td>\n",
       "      <td>B+</td>\n",
       "      <td>International Relations</td>\n",
       "      <td>ENTR</td>\n",
       "      <td>200</td>\n",
       "      <td>0</td>\n",
       "      <td>0</td>\n",
       "      <td>0</td>\n",
       "      <td>0</td>\n",
       "      <td>...</td>\n",
       "      <td>0</td>\n",
       "      <td>0</td>\n",
       "      <td>0</td>\n",
       "      <td>0</td>\n",
       "      <td>0</td>\n",
       "      <td>0</td>\n",
       "      <td>0</td>\n",
       "      <td>0</td>\n",
       "      <td>0</td>\n",
       "      <td>0</td>\n",
       "    </tr>\n",
       "  </tbody>\n",
       "</table>\n",
       "<p>5 rows × 2727 columns</p>\n",
       "</div>"
      ],
      "text/plain": [
       "         student_id      level grade                    major Courese_DPT  \\\n",
       "0  ppVGBRKhtqqyxnVO   Freshman     A                 Business        SPAN   \n",
       "1  PiPkSgMGbFIu5RwR   Freshman     S  International Relations         CSI   \n",
       "2  PiPkSgMGbFIu5RwR  Sophomore     C  International Relations         EES   \n",
       "3  PiPkSgMGbFIu5RwR     Senior     B  International Relations        SPAN   \n",
       "4  PiPkSgMGbFIu5RwR     Junior    B+  International Relations        ENTR   \n",
       "\n",
       "  Course_Num  course-006:100  course-ABRD:301  course-ABRD:302  \\\n",
       "0        100               0                0                0   \n",
       "1        160               0                0                0   \n",
       "2        107               0                0                0   \n",
       "3        201               0                0                0   \n",
       "4        200               0                0                0   \n",
       "\n",
       "   course-ABRD:303  ...  course-WRIT:100  course-WRIT:140  course-WRIT:160  \\\n",
       "0                0  ...                0                0                0   \n",
       "1                0  ...                0                0                0   \n",
       "2                0  ...                0                0                0   \n",
       "3                0  ...                0                0                0   \n",
       "4                0  ...                0                0                0   \n",
       "\n",
       "   course-WRIT:310  course-WRIT:326  course-WRIT:374  course-WRIT:390  \\\n",
       "0                0                0                0                0   \n",
       "1                0                0                0                0   \n",
       "2                0                0                0                0   \n",
       "3                0                0                0                0   \n",
       "4                0                0                0                0   \n",
       "\n",
       "   course-WRIT:400  course-WRIT:474  course-WRIT:476  \n",
       "0                0                0                0  \n",
       "1                0                0                0  \n",
       "2                0                0                0  \n",
       "3                0                0                0  \n",
       "4                0                0                0  \n",
       "\n",
       "[5 rows x 2727 columns]"
      ]
     },
     "execution_count": 11,
     "metadata": {},
     "output_type": "execute_result"
    }
   ],
   "source": [
    "df.head(5)"
   ]
  },
  {
   "cell_type": "code",
   "execution_count": 12,
   "metadata": {
    "colab": {},
    "colab_type": "code",
    "id": "lE3SxQZkznUE"
   },
   "outputs": [],
   "source": [
    "le = preprocessing.LabelEncoder()\n",
    "df_y = le.fit_transform(df[\"major\"])\n",
    "\n",
    "#Use labelencoder to transform majors into numbers, in order to train"
   ]
  },
  {
   "cell_type": "code",
   "execution_count": 13,
   "metadata": {
    "colab": {},
    "colab_type": "code",
    "id": "hNz9mZf3znUG"
   },
   "outputs": [],
   "source": [
    "df_x = df.copy()\n",
    "for column in df.columns[:6]:\n",
    "    df_x.drop(column,axis=1,inplace = True)\n",
    "#Got the sparse matrix df_x，to be predicted on    "
   ]
  },
  {
   "cell_type": "markdown",
   "metadata": {
    "colab_type": "text",
    "id": "uhNJWj--znUI"
   },
   "source": [
    "The feature is simple and there is on correlation. So let's try Naive Bayes"
   ]
  },
  {
   "cell_type": "code",
   "execution_count": 14,
   "metadata": {
    "colab": {},
    "colab_type": "code",
    "id": "SQZL9hSDznUI"
   },
   "outputs": [],
   "source": [
    "x_train, x_test, y_train, y_test = train_test_split(    \n",
    "    df_x, df_y, test_size=0.25, random_state=42)\n",
    "NB = BernoulliNB()\n",
    "NB.fit(x_train,y_train)\n",
    "y_pred=NB.predict(x_test)"
   ]
  },
  {
   "cell_type": "code",
   "execution_count": 15,
   "metadata": {
    "colab": {},
    "colab_type": "code",
    "id": "ey_bdP-rznUL",
    "outputId": "6ce56c6d-fc80-4839-dbce-8d97918bc05c"
   },
   "outputs": [
    {
     "data": {
      "text/plain": [
       "0.3780994284304453"
      ]
     },
     "execution_count": 15,
     "metadata": {},
     "output_type": "execute_result"
    }
   ],
   "source": [
    "metrics.accuracy_score(y_pred,y_test) # The outcome is not good, but better that predict all as the Mode"
   ]
  },
  {
   "cell_type": "markdown",
   "metadata": {
    "colab_type": "text",
    "id": "TD-uvWJ1znUO"
   },
   "source": [
    "Using the department to predict major"
   ]
  },
  {
   "cell_type": "code",
   "execution_count": 16,
   "metadata": {
    "colab": {},
    "colab_type": "code",
    "id": "_cdSKijqznUP"
   },
   "outputs": [],
   "source": [
    "df_x = pd.get_dummies(df[\"Courese_DPT\"])\n",
    "x_train, x_test, y_train, y_test = train_test_split(    \n",
    "    df_x, df_y, test_size=0.25, random_state=42)"
   ]
  },
  {
   "cell_type": "code",
   "execution_count": 17,
   "metadata": {
    "colab": {},
    "colab_type": "code",
    "id": "9R8GR356znUS",
    "outputId": "c82d7869-c0d1-4d7d-e10e-7f5242ed256b"
   },
   "outputs": [
    {
     "data": {
      "text/plain": [
       "0.3341831489781652"
      ]
     },
     "execution_count": 17,
     "metadata": {},
     "output_type": "execute_result"
    }
   ],
   "source": [
    "NB = BernoulliNB()\n",
    "NB.fit(x_train,y_train)\n",
    "y_pred=NB.predict(x_test)\n",
    "metrics.accuracy_score(y_pred,y_test) # The outcome is close to which using full course code. But demension 182 vs 2721"
   ]
  },
  {
   "cell_type": "markdown",
   "metadata": {
    "colab_type": "text",
    "id": "YOv4R9-RznUV"
   },
   "source": [
    "## 2.Use all histories of one student to predict the major\n",
    "We did not utilized the feature student_id which appear repeatedly. We can use this to combine all the history of each student"
   ]
  },
  {
   "cell_type": "code",
   "execution_count": 18,
   "metadata": {
    "colab": {},
    "colab_type": "code",
    "id": "oKy4TqzpznUW",
    "outputId": "046d903d-20f4-4156-8ed7-4bf546427f38"
   },
   "outputs": [
    {
     "data": {
      "text/html": [
       "<div>\n",
       "<style scoped>\n",
       "    .dataframe tbody tr th:only-of-type {\n",
       "        vertical-align: middle;\n",
       "    }\n",
       "\n",
       "    .dataframe tbody tr th {\n",
       "        vertical-align: top;\n",
       "    }\n",
       "\n",
       "    .dataframe thead th {\n",
       "        text-align: right;\n",
       "    }\n",
       "</style>\n",
       "<table border=\"1\" class=\"dataframe\">\n",
       "  <thead>\n",
       "    <tr style=\"text-align: right;\">\n",
       "      <th></th>\n",
       "      <th>student_id</th>\n",
       "      <th>course-006:100</th>\n",
       "      <th>course-ABRD:301</th>\n",
       "      <th>course-ABRD:302</th>\n",
       "      <th>course-ABRD:303</th>\n",
       "      <th>course-ABRD:304</th>\n",
       "      <th>course-ABRD:306</th>\n",
       "      <th>course-ABRD:307</th>\n",
       "      <th>course-ABRD:308</th>\n",
       "      <th>course-ABRD:309</th>\n",
       "      <th>...</th>\n",
       "      <th>course-WRIT:100</th>\n",
       "      <th>course-WRIT:140</th>\n",
       "      <th>course-WRIT:160</th>\n",
       "      <th>course-WRIT:310</th>\n",
       "      <th>course-WRIT:326</th>\n",
       "      <th>course-WRIT:374</th>\n",
       "      <th>course-WRIT:390</th>\n",
       "      <th>course-WRIT:400</th>\n",
       "      <th>course-WRIT:474</th>\n",
       "      <th>course-WRIT:476</th>\n",
       "    </tr>\n",
       "  </thead>\n",
       "  <tbody>\n",
       "    <tr>\n",
       "      <th>0</th>\n",
       "      <td>ppVGBRKhtqqyxnVO</td>\n",
       "      <td>0</td>\n",
       "      <td>0</td>\n",
       "      <td>0</td>\n",
       "      <td>0</td>\n",
       "      <td>0</td>\n",
       "      <td>0</td>\n",
       "      <td>0</td>\n",
       "      <td>0</td>\n",
       "      <td>0</td>\n",
       "      <td>...</td>\n",
       "      <td>0</td>\n",
       "      <td>0</td>\n",
       "      <td>0</td>\n",
       "      <td>0</td>\n",
       "      <td>0</td>\n",
       "      <td>0</td>\n",
       "      <td>0</td>\n",
       "      <td>0</td>\n",
       "      <td>0</td>\n",
       "      <td>0</td>\n",
       "    </tr>\n",
       "    <tr>\n",
       "      <th>1</th>\n",
       "      <td>PiPkSgMGbFIu5RwR</td>\n",
       "      <td>0</td>\n",
       "      <td>0</td>\n",
       "      <td>0</td>\n",
       "      <td>0</td>\n",
       "      <td>0</td>\n",
       "      <td>0</td>\n",
       "      <td>0</td>\n",
       "      <td>0</td>\n",
       "      <td>0</td>\n",
       "      <td>...</td>\n",
       "      <td>0</td>\n",
       "      <td>0</td>\n",
       "      <td>0</td>\n",
       "      <td>0</td>\n",
       "      <td>0</td>\n",
       "      <td>0</td>\n",
       "      <td>0</td>\n",
       "      <td>0</td>\n",
       "      <td>0</td>\n",
       "      <td>0</td>\n",
       "    </tr>\n",
       "    <tr>\n",
       "      <th>2</th>\n",
       "      <td>PiPkSgMGbFIu5RwR</td>\n",
       "      <td>0</td>\n",
       "      <td>0</td>\n",
       "      <td>0</td>\n",
       "      <td>0</td>\n",
       "      <td>0</td>\n",
       "      <td>0</td>\n",
       "      <td>0</td>\n",
       "      <td>0</td>\n",
       "      <td>0</td>\n",
       "      <td>...</td>\n",
       "      <td>0</td>\n",
       "      <td>0</td>\n",
       "      <td>0</td>\n",
       "      <td>0</td>\n",
       "      <td>0</td>\n",
       "      <td>0</td>\n",
       "      <td>0</td>\n",
       "      <td>0</td>\n",
       "      <td>0</td>\n",
       "      <td>0</td>\n",
       "    </tr>\n",
       "    <tr>\n",
       "      <th>3</th>\n",
       "      <td>PiPkSgMGbFIu5RwR</td>\n",
       "      <td>0</td>\n",
       "      <td>0</td>\n",
       "      <td>0</td>\n",
       "      <td>0</td>\n",
       "      <td>0</td>\n",
       "      <td>0</td>\n",
       "      <td>0</td>\n",
       "      <td>0</td>\n",
       "      <td>0</td>\n",
       "      <td>...</td>\n",
       "      <td>0</td>\n",
       "      <td>0</td>\n",
       "      <td>0</td>\n",
       "      <td>0</td>\n",
       "      <td>0</td>\n",
       "      <td>0</td>\n",
       "      <td>0</td>\n",
       "      <td>0</td>\n",
       "      <td>0</td>\n",
       "      <td>0</td>\n",
       "    </tr>\n",
       "    <tr>\n",
       "      <th>4</th>\n",
       "      <td>PiPkSgMGbFIu5RwR</td>\n",
       "      <td>0</td>\n",
       "      <td>0</td>\n",
       "      <td>0</td>\n",
       "      <td>0</td>\n",
       "      <td>0</td>\n",
       "      <td>0</td>\n",
       "      <td>0</td>\n",
       "      <td>0</td>\n",
       "      <td>0</td>\n",
       "      <td>...</td>\n",
       "      <td>0</td>\n",
       "      <td>0</td>\n",
       "      <td>0</td>\n",
       "      <td>0</td>\n",
       "      <td>0</td>\n",
       "      <td>0</td>\n",
       "      <td>0</td>\n",
       "      <td>0</td>\n",
       "      <td>0</td>\n",
       "      <td>0</td>\n",
       "    </tr>\n",
       "  </tbody>\n",
       "</table>\n",
       "<p>5 rows × 2722 columns</p>\n",
       "</div>"
      ],
      "text/plain": [
       "         student_id  course-006:100  course-ABRD:301  course-ABRD:302  \\\n",
       "0  ppVGBRKhtqqyxnVO               0                0                0   \n",
       "1  PiPkSgMGbFIu5RwR               0                0                0   \n",
       "2  PiPkSgMGbFIu5RwR               0                0                0   \n",
       "3  PiPkSgMGbFIu5RwR               0                0                0   \n",
       "4  PiPkSgMGbFIu5RwR               0                0                0   \n",
       "\n",
       "   course-ABRD:303  course-ABRD:304  course-ABRD:306  course-ABRD:307  \\\n",
       "0                0                0                0                0   \n",
       "1                0                0                0                0   \n",
       "2                0                0                0                0   \n",
       "3                0                0                0                0   \n",
       "4                0                0                0                0   \n",
       "\n",
       "   course-ABRD:308  course-ABRD:309  ...  course-WRIT:100  course-WRIT:140  \\\n",
       "0                0                0  ...                0                0   \n",
       "1                0                0  ...                0                0   \n",
       "2                0                0  ...                0                0   \n",
       "3                0                0  ...                0                0   \n",
       "4                0                0  ...                0                0   \n",
       "\n",
       "   course-WRIT:160  course-WRIT:310  course-WRIT:326  course-WRIT:374  \\\n",
       "0                0                0                0                0   \n",
       "1                0                0                0                0   \n",
       "2                0                0                0                0   \n",
       "3                0                0                0                0   \n",
       "4                0                0                0                0   \n",
       "\n",
       "   course-WRIT:390  course-WRIT:400  course-WRIT:474  course-WRIT:476  \n",
       "0                0                0                0                0  \n",
       "1                0                0                0                0  \n",
       "2                0                0                0                0  \n",
       "3                0                0                0                0  \n",
       "4                0                0                0                0  \n",
       "\n",
       "[5 rows x 2722 columns]"
      ]
     },
     "execution_count": 18,
     "metadata": {},
     "output_type": "execute_result"
    }
   ],
   "source": [
    "df_x = df.copy()\n",
    "for column in df.columns[1:6]:\n",
    "    df_x.drop(column,axis=1,inplace = True)\n",
    "df_x.head(5)   "
   ]
  },
  {
   "cell_type": "code",
   "execution_count": 19,
   "metadata": {
    "colab": {},
    "colab_type": "code",
    "id": "rCFmY8fRznUZ",
    "outputId": "c05ed267-322f-46d4-f26c-8cc6027d1cb5"
   },
   "outputs": [
    {
     "data": {
      "text/html": [
       "<div>\n",
       "<style scoped>\n",
       "    .dataframe tbody tr th:only-of-type {\n",
       "        vertical-align: middle;\n",
       "    }\n",
       "\n",
       "    .dataframe tbody tr th {\n",
       "        vertical-align: top;\n",
       "    }\n",
       "\n",
       "    .dataframe thead th {\n",
       "        text-align: right;\n",
       "    }\n",
       "</style>\n",
       "<table border=\"1\" class=\"dataframe\">\n",
       "  <thead>\n",
       "    <tr style=\"text-align: right;\">\n",
       "      <th></th>\n",
       "      <th>course-006:100</th>\n",
       "      <th>course-ABRD:301</th>\n",
       "      <th>course-ABRD:302</th>\n",
       "      <th>course-ABRD:303</th>\n",
       "      <th>course-ABRD:304</th>\n",
       "      <th>course-ABRD:306</th>\n",
       "      <th>course-ABRD:307</th>\n",
       "      <th>course-ABRD:308</th>\n",
       "      <th>course-ABRD:309</th>\n",
       "      <th>course-ABRD:311</th>\n",
       "      <th>...</th>\n",
       "      <th>course-WRIT:100</th>\n",
       "      <th>course-WRIT:140</th>\n",
       "      <th>course-WRIT:160</th>\n",
       "      <th>course-WRIT:310</th>\n",
       "      <th>course-WRIT:326</th>\n",
       "      <th>course-WRIT:374</th>\n",
       "      <th>course-WRIT:390</th>\n",
       "      <th>course-WRIT:400</th>\n",
       "      <th>course-WRIT:474</th>\n",
       "      <th>course-WRIT:476</th>\n",
       "    </tr>\n",
       "    <tr>\n",
       "      <th>student_id</th>\n",
       "      <th></th>\n",
       "      <th></th>\n",
       "      <th></th>\n",
       "      <th></th>\n",
       "      <th></th>\n",
       "      <th></th>\n",
       "      <th></th>\n",
       "      <th></th>\n",
       "      <th></th>\n",
       "      <th></th>\n",
       "      <th></th>\n",
       "      <th></th>\n",
       "      <th></th>\n",
       "      <th></th>\n",
       "      <th></th>\n",
       "      <th></th>\n",
       "      <th></th>\n",
       "      <th></th>\n",
       "      <th></th>\n",
       "      <th></th>\n",
       "      <th></th>\n",
       "    </tr>\n",
       "  </thead>\n",
       "  <tbody>\n",
       "    <tr>\n",
       "      <th>ppVGBRKhtqqyxnVO</th>\n",
       "      <td>0</td>\n",
       "      <td>0</td>\n",
       "      <td>0</td>\n",
       "      <td>0</td>\n",
       "      <td>0</td>\n",
       "      <td>0</td>\n",
       "      <td>0</td>\n",
       "      <td>0</td>\n",
       "      <td>0</td>\n",
       "      <td>0</td>\n",
       "      <td>...</td>\n",
       "      <td>0</td>\n",
       "      <td>0</td>\n",
       "      <td>0</td>\n",
       "      <td>0</td>\n",
       "      <td>0</td>\n",
       "      <td>0</td>\n",
       "      <td>0</td>\n",
       "      <td>0</td>\n",
       "      <td>0</td>\n",
       "      <td>0</td>\n",
       "    </tr>\n",
       "    <tr>\n",
       "      <th>PiPkSgMGbFIu5RwR</th>\n",
       "      <td>0</td>\n",
       "      <td>0</td>\n",
       "      <td>0</td>\n",
       "      <td>0</td>\n",
       "      <td>0</td>\n",
       "      <td>0</td>\n",
       "      <td>0</td>\n",
       "      <td>0</td>\n",
       "      <td>0</td>\n",
       "      <td>0</td>\n",
       "      <td>...</td>\n",
       "      <td>0</td>\n",
       "      <td>0</td>\n",
       "      <td>0</td>\n",
       "      <td>0</td>\n",
       "      <td>0</td>\n",
       "      <td>0</td>\n",
       "      <td>0</td>\n",
       "      <td>0</td>\n",
       "      <td>0</td>\n",
       "      <td>0</td>\n",
       "    </tr>\n",
       "    <tr>\n",
       "      <th>x9wNE71Wzj7cIiGV</th>\n",
       "      <td>0</td>\n",
       "      <td>0</td>\n",
       "      <td>0</td>\n",
       "      <td>0</td>\n",
       "      <td>0</td>\n",
       "      <td>0</td>\n",
       "      <td>0</td>\n",
       "      <td>0</td>\n",
       "      <td>0</td>\n",
       "      <td>0</td>\n",
       "      <td>...</td>\n",
       "      <td>0</td>\n",
       "      <td>0</td>\n",
       "      <td>0</td>\n",
       "      <td>0</td>\n",
       "      <td>0</td>\n",
       "      <td>0</td>\n",
       "      <td>0</td>\n",
       "      <td>0</td>\n",
       "      <td>0</td>\n",
       "      <td>0</td>\n",
       "    </tr>\n",
       "    <tr>\n",
       "      <th>Ilym6N264yshysce</th>\n",
       "      <td>0</td>\n",
       "      <td>0</td>\n",
       "      <td>0</td>\n",
       "      <td>0</td>\n",
       "      <td>0</td>\n",
       "      <td>0</td>\n",
       "      <td>0</td>\n",
       "      <td>0</td>\n",
       "      <td>0</td>\n",
       "      <td>0</td>\n",
       "      <td>...</td>\n",
       "      <td>0</td>\n",
       "      <td>0</td>\n",
       "      <td>0</td>\n",
       "      <td>0</td>\n",
       "      <td>0</td>\n",
       "      <td>0</td>\n",
       "      <td>0</td>\n",
       "      <td>0</td>\n",
       "      <td>0</td>\n",
       "      <td>0</td>\n",
       "    </tr>\n",
       "    <tr>\n",
       "      <th>kO4XKESuy7bn0XLg</th>\n",
       "      <td>0</td>\n",
       "      <td>0</td>\n",
       "      <td>0</td>\n",
       "      <td>0</td>\n",
       "      <td>0</td>\n",
       "      <td>0</td>\n",
       "      <td>0</td>\n",
       "      <td>0</td>\n",
       "      <td>0</td>\n",
       "      <td>0</td>\n",
       "      <td>...</td>\n",
       "      <td>0</td>\n",
       "      <td>0</td>\n",
       "      <td>0</td>\n",
       "      <td>0</td>\n",
       "      <td>0</td>\n",
       "      <td>0</td>\n",
       "      <td>0</td>\n",
       "      <td>0</td>\n",
       "      <td>0</td>\n",
       "      <td>0</td>\n",
       "    </tr>\n",
       "    <tr>\n",
       "      <th>5XHKpFQzdvsSNArX</th>\n",
       "      <td>0</td>\n",
       "      <td>0</td>\n",
       "      <td>0</td>\n",
       "      <td>0</td>\n",
       "      <td>0</td>\n",
       "      <td>0</td>\n",
       "      <td>0</td>\n",
       "      <td>0</td>\n",
       "      <td>0</td>\n",
       "      <td>0</td>\n",
       "      <td>...</td>\n",
       "      <td>0</td>\n",
       "      <td>0</td>\n",
       "      <td>0</td>\n",
       "      <td>0</td>\n",
       "      <td>0</td>\n",
       "      <td>0</td>\n",
       "      <td>0</td>\n",
       "      <td>0</td>\n",
       "      <td>0</td>\n",
       "      <td>0</td>\n",
       "    </tr>\n",
       "    <tr>\n",
       "      <th>F1G3okZqalg3hriD</th>\n",
       "      <td>0</td>\n",
       "      <td>0</td>\n",
       "      <td>0</td>\n",
       "      <td>0</td>\n",
       "      <td>0</td>\n",
       "      <td>0</td>\n",
       "      <td>0</td>\n",
       "      <td>0</td>\n",
       "      <td>0</td>\n",
       "      <td>0</td>\n",
       "      <td>...</td>\n",
       "      <td>0</td>\n",
       "      <td>0</td>\n",
       "      <td>0</td>\n",
       "      <td>0</td>\n",
       "      <td>0</td>\n",
       "      <td>0</td>\n",
       "      <td>0</td>\n",
       "      <td>0</td>\n",
       "      <td>0</td>\n",
       "      <td>0</td>\n",
       "    </tr>\n",
       "    <tr>\n",
       "      <th>iBjaatchfqc0CuDg</th>\n",
       "      <td>0</td>\n",
       "      <td>0</td>\n",
       "      <td>0</td>\n",
       "      <td>0</td>\n",
       "      <td>0</td>\n",
       "      <td>0</td>\n",
       "      <td>0</td>\n",
       "      <td>0</td>\n",
       "      <td>0</td>\n",
       "      <td>0</td>\n",
       "      <td>...</td>\n",
       "      <td>0</td>\n",
       "      <td>0</td>\n",
       "      <td>0</td>\n",
       "      <td>0</td>\n",
       "      <td>0</td>\n",
       "      <td>0</td>\n",
       "      <td>0</td>\n",
       "      <td>0</td>\n",
       "      <td>0</td>\n",
       "      <td>0</td>\n",
       "    </tr>\n",
       "    <tr>\n",
       "      <th>Jmq59W8bu3EZoelN</th>\n",
       "      <td>0</td>\n",
       "      <td>0</td>\n",
       "      <td>0</td>\n",
       "      <td>0</td>\n",
       "      <td>0</td>\n",
       "      <td>0</td>\n",
       "      <td>0</td>\n",
       "      <td>0</td>\n",
       "      <td>0</td>\n",
       "      <td>0</td>\n",
       "      <td>...</td>\n",
       "      <td>0</td>\n",
       "      <td>0</td>\n",
       "      <td>0</td>\n",
       "      <td>0</td>\n",
       "      <td>0</td>\n",
       "      <td>0</td>\n",
       "      <td>0</td>\n",
       "      <td>0</td>\n",
       "      <td>0</td>\n",
       "      <td>0</td>\n",
       "    </tr>\n",
       "    <tr>\n",
       "      <th>EWg2FxS2c4PGuKp9</th>\n",
       "      <td>0</td>\n",
       "      <td>0</td>\n",
       "      <td>0</td>\n",
       "      <td>0</td>\n",
       "      <td>0</td>\n",
       "      <td>0</td>\n",
       "      <td>0</td>\n",
       "      <td>0</td>\n",
       "      <td>0</td>\n",
       "      <td>0</td>\n",
       "      <td>...</td>\n",
       "      <td>0</td>\n",
       "      <td>0</td>\n",
       "      <td>1</td>\n",
       "      <td>0</td>\n",
       "      <td>0</td>\n",
       "      <td>0</td>\n",
       "      <td>0</td>\n",
       "      <td>0</td>\n",
       "      <td>0</td>\n",
       "      <td>0</td>\n",
       "    </tr>\n",
       "  </tbody>\n",
       "</table>\n",
       "<p>10 rows × 2721 columns</p>\n",
       "</div>"
      ],
      "text/plain": [
       "                  course-006:100  course-ABRD:301  course-ABRD:302  \\\n",
       "student_id                                                           \n",
       "ppVGBRKhtqqyxnVO               0                0                0   \n",
       "PiPkSgMGbFIu5RwR               0                0                0   \n",
       "x9wNE71Wzj7cIiGV               0                0                0   \n",
       "Ilym6N264yshysce               0                0                0   \n",
       "kO4XKESuy7bn0XLg               0                0                0   \n",
       "5XHKpFQzdvsSNArX               0                0                0   \n",
       "F1G3okZqalg3hriD               0                0                0   \n",
       "iBjaatchfqc0CuDg               0                0                0   \n",
       "Jmq59W8bu3EZoelN               0                0                0   \n",
       "EWg2FxS2c4PGuKp9               0                0                0   \n",
       "\n",
       "                  course-ABRD:303  course-ABRD:304  course-ABRD:306  \\\n",
       "student_id                                                            \n",
       "ppVGBRKhtqqyxnVO                0                0                0   \n",
       "PiPkSgMGbFIu5RwR                0                0                0   \n",
       "x9wNE71Wzj7cIiGV                0                0                0   \n",
       "Ilym6N264yshysce                0                0                0   \n",
       "kO4XKESuy7bn0XLg                0                0                0   \n",
       "5XHKpFQzdvsSNArX                0                0                0   \n",
       "F1G3okZqalg3hriD                0                0                0   \n",
       "iBjaatchfqc0CuDg                0                0                0   \n",
       "Jmq59W8bu3EZoelN                0                0                0   \n",
       "EWg2FxS2c4PGuKp9                0                0                0   \n",
       "\n",
       "                  course-ABRD:307  course-ABRD:308  course-ABRD:309  \\\n",
       "student_id                                                            \n",
       "ppVGBRKhtqqyxnVO                0                0                0   \n",
       "PiPkSgMGbFIu5RwR                0                0                0   \n",
       "x9wNE71Wzj7cIiGV                0                0                0   \n",
       "Ilym6N264yshysce                0                0                0   \n",
       "kO4XKESuy7bn0XLg                0                0                0   \n",
       "5XHKpFQzdvsSNArX                0                0                0   \n",
       "F1G3okZqalg3hriD                0                0                0   \n",
       "iBjaatchfqc0CuDg                0                0                0   \n",
       "Jmq59W8bu3EZoelN                0                0                0   \n",
       "EWg2FxS2c4PGuKp9                0                0                0   \n",
       "\n",
       "                  course-ABRD:311  ...  course-WRIT:100  course-WRIT:140  \\\n",
       "student_id                         ...                                     \n",
       "ppVGBRKhtqqyxnVO                0  ...                0                0   \n",
       "PiPkSgMGbFIu5RwR                0  ...                0                0   \n",
       "x9wNE71Wzj7cIiGV                0  ...                0                0   \n",
       "Ilym6N264yshysce                0  ...                0                0   \n",
       "kO4XKESuy7bn0XLg                0  ...                0                0   \n",
       "5XHKpFQzdvsSNArX                0  ...                0                0   \n",
       "F1G3okZqalg3hriD                0  ...                0                0   \n",
       "iBjaatchfqc0CuDg                0  ...                0                0   \n",
       "Jmq59W8bu3EZoelN                0  ...                0                0   \n",
       "EWg2FxS2c4PGuKp9                0  ...                0                0   \n",
       "\n",
       "                  course-WRIT:160  course-WRIT:310  course-WRIT:326  \\\n",
       "student_id                                                            \n",
       "ppVGBRKhtqqyxnVO                0                0                0   \n",
       "PiPkSgMGbFIu5RwR                0                0                0   \n",
       "x9wNE71Wzj7cIiGV                0                0                0   \n",
       "Ilym6N264yshysce                0                0                0   \n",
       "kO4XKESuy7bn0XLg                0                0                0   \n",
       "5XHKpFQzdvsSNArX                0                0                0   \n",
       "F1G3okZqalg3hriD                0                0                0   \n",
       "iBjaatchfqc0CuDg                0                0                0   \n",
       "Jmq59W8bu3EZoelN                0                0                0   \n",
       "EWg2FxS2c4PGuKp9                1                0                0   \n",
       "\n",
       "                  course-WRIT:374  course-WRIT:390  course-WRIT:400  \\\n",
       "student_id                                                            \n",
       "ppVGBRKhtqqyxnVO                0                0                0   \n",
       "PiPkSgMGbFIu5RwR                0                0                0   \n",
       "x9wNE71Wzj7cIiGV                0                0                0   \n",
       "Ilym6N264yshysce                0                0                0   \n",
       "kO4XKESuy7bn0XLg                0                0                0   \n",
       "5XHKpFQzdvsSNArX                0                0                0   \n",
       "F1G3okZqalg3hriD                0                0                0   \n",
       "iBjaatchfqc0CuDg                0                0                0   \n",
       "Jmq59W8bu3EZoelN                0                0                0   \n",
       "EWg2FxS2c4PGuKp9                0                0                0   \n",
       "\n",
       "                  course-WRIT:474  course-WRIT:476  \n",
       "student_id                                          \n",
       "ppVGBRKhtqqyxnVO                0                0  \n",
       "PiPkSgMGbFIu5RwR                0                0  \n",
       "x9wNE71Wzj7cIiGV                0                0  \n",
       "Ilym6N264yshysce                0                0  \n",
       "kO4XKESuy7bn0XLg                0                0  \n",
       "5XHKpFQzdvsSNArX                0                0  \n",
       "F1G3okZqalg3hriD                0                0  \n",
       "iBjaatchfqc0CuDg                0                0  \n",
       "Jmq59W8bu3EZoelN                0                0  \n",
       "EWg2FxS2c4PGuKp9                0                0  \n",
       "\n",
       "[10 rows x 2721 columns]"
      ]
     },
     "execution_count": 19,
     "metadata": {},
     "output_type": "execute_result"
    }
   ],
   "source": [
    "student = df_x.groupby(by = \"student_id\",sort =False)\n",
    "df_x_ = student.sum()\n",
    "df_x_.head(10)"
   ]
  },
  {
   "cell_type": "code",
   "execution_count": 20,
   "metadata": {
    "colab": {},
    "colab_type": "code",
    "id": "Y0Slt62kznUb",
    "outputId": "73ca1f8a-1365-4dc8-cec9-47603527b874"
   },
   "outputs": [
    {
     "data": {
      "text/plain": [
       "(10000, 2721)"
      ]
     },
     "execution_count": 20,
     "metadata": {},
     "output_type": "execute_result"
    }
   ],
   "source": [
    "df_x_.shape # 10,000 students"
   ]
  },
  {
   "cell_type": "code",
   "execution_count": 21,
   "metadata": {
    "colab": {},
    "colab_type": "code",
    "id": "tf8WiAOQznUd",
    "outputId": "27d4da14-9f91-4680-8331-b33c7cd0c7ad"
   },
   "outputs": [
    {
     "data": {
      "text/plain": [
       "0                      Business\n",
       "1       International Relations\n",
       "13          Medical Engineering\n",
       "14                   Psychology\n",
       "46                   Psychology\n",
       "54    Interdepartmental Studies\n",
       "68                     Business\n",
       "69                      English\n",
       "70    Health And Sport Sciences\n",
       "71                     Medicine\n",
       "Name: major, dtype: object"
      ]
     },
     "execution_count": 21,
     "metadata": {},
     "output_type": "execute_result"
    }
   ],
   "source": [
    "df_y_ = df.groupby(by = \"student_id\",sort = False).head(1)[\"major\"]\n",
    "df_y_.head(10) #major"
   ]
  },
  {
   "cell_type": "code",
   "execution_count": 22,
   "metadata": {
    "colab": {},
    "colab_type": "code",
    "id": "I5dYhzAaznUg",
    "outputId": "0b122094-c263-4316-f9a3-d8aaef577a8e"
   },
   "outputs": [
    {
     "data": {
      "text/plain": [
       "0.765"
      ]
     },
     "execution_count": 22,
     "metadata": {},
     "output_type": "execute_result"
    }
   ],
   "source": [
    "y = le.fit_transform(df_y_) #label encoding\n",
    "\n",
    "x_train, x_test, y_train, y_test = train_test_split(    \n",
    "    df_x_, y, test_size=0.1, random_state=42)\n",
    "NB2 = BernoulliNB()\n",
    "NB2.fit(x_train,y_train)\n",
    "y_pred=NB2.predict(x_test)\n",
    "metrics.accuracy_score(y_pred,y_test)  # Naive Bayes"
   ]
  },
  {
   "cell_type": "code",
   "execution_count": 23,
   "metadata": {
    "colab": {},
    "colab_type": "code",
    "id": "LpWDCkGAznUi",
    "outputId": "1b890018-5ee0-453c-a4b5-0f3d5d6054e0"
   },
   "outputs": [
    {
     "data": {
      "text/plain": [
       "0.9212"
      ]
     },
     "execution_count": 23,
     "metadata": {},
     "output_type": "execute_result"
    }
   ],
   "source": [
    "x_train, x_test, y_train, y_test = train_test_split(    \n",
    "    df_x_, y, test_size=0.25, random_state=42)\n",
    "lr = LogisticRegression()\n",
    "lr.fit(x_train,y_train)\n",
    "y_pred=lr.predict(x_test)\n",
    "metrics.accuracy_score(y_pred,y_test) # Logistice Regression"
   ]
  },
  {
   "cell_type": "code",
   "execution_count": 24,
   "metadata": {
    "colab": {},
    "colab_type": "code",
    "id": "xtS6dgl3znUk",
    "outputId": "5fd51c08-3bf7-494c-9cd4-b28543bbcd7a"
   },
   "outputs": [
    {
     "data": {
      "text/plain": [
       "0.919"
      ]
     },
     "execution_count": 24,
     "metadata": {},
     "output_type": "execute_result"
    }
   ],
   "source": [
    "x_train, x_test, y_train, y_test = train_test_split(    \n",
    "    df_x_, y, test_size=0.1, random_state=42)\n",
    "lr = LogisticRegression()\n",
    "lr.fit(x_train,y_train)\n",
    "y_pred=lr.predict(x_test)\n",
    "metrics.accuracy_score(y_pred,y_test)"
   ]
  },
  {
   "cell_type": "code",
   "execution_count": 28,
   "metadata": {},
   "outputs": [
    {
     "data": {
      "text/plain": [
       "0.824"
      ]
     },
     "execution_count": 28,
     "metadata": {},
     "output_type": "execute_result"
    }
   ],
   "source": [
    "pca = PCA(n_components=100) # Reduce dimensionality using PCA\n",
    "pca.fit(x_train)\n",
    "x_train = pca.transform(x_train)\n",
    "x_test = pca.transform(x_test)\n"
   ]
  },
  {
   "cell_type": "code",
   "execution_count": 29,
   "metadata": {},
   "outputs": [
    {
     "data": {
      "text/plain": [
       "0.898"
      ]
     },
     "execution_count": 29,
     "metadata": {},
     "output_type": "execute_result"
    }
   ],
   "source": [
    "lr = LogisticRegression() # Logistic Regression on reduced data\n",
    "lr.fit(x_train,y_train)\n",
    "y_pred=lr.predict(x_test)\n",
    "metrics.accuracy_score(y_pred,y_test)"
   ]
  },
  {
   "cell_type": "markdown",
   "metadata": {
    "colab_type": "text",
    "id": "LJgivQVRznUm"
   },
   "source": [
    "Using only the department code"
   ]
  },
  {
   "cell_type": "code",
   "execution_count": 30,
   "metadata": {
    "colab": {},
    "colab_type": "code",
    "id": "4YG1bzJvznUn"
   },
   "outputs": [],
   "source": [
    "x_DPT = df[[\"student_id\",\"Courese_DPT\"]].copy()\n",
    "encode_text_dummy(x_DPT,\"Courese_DPT\")\n",
    "x_DPT = x_DPT.groupby(by = \"student_id\",sort = False).sum()"
   ]
  },
  {
   "cell_type": "code",
   "execution_count": 31,
   "metadata": {
    "colab": {},
    "colab_type": "code",
    "id": "om8heAXNznUo",
    "outputId": "2169931f-e073-4ebc-fe11-09bd8315f2bd"
   },
   "outputs": [
    {
     "data": {
      "text/plain": [
       "(10000, 182)"
      ]
     },
     "execution_count": 31,
     "metadata": {},
     "output_type": "execute_result"
    }
   ],
   "source": [
    "x_DPT.shape"
   ]
  },
  {
   "cell_type": "code",
   "execution_count": 32,
   "metadata": {
    "colab": {},
    "colab_type": "code",
    "id": "Id5QRZCfznUq",
    "outputId": "e3ff7bfd-abd2-48b5-de5a-ce86643a2dc4"
   },
   "outputs": [
    {
     "data": {
      "text/plain": [
       "0.9088"
      ]
     },
     "execution_count": 32,
     "metadata": {},
     "output_type": "execute_result"
    }
   ],
   "source": [
    "x_train, x_test, y_train, y_test = train_test_split(    \n",
    "    x_DPT, y, test_size=0.25, random_state=43)\n",
    "lr1 = LogisticRegression()\n",
    "lr1.fit(x_train,y_train)\n",
    "y_pred=lr1.predict(x_test)\n",
    "metrics.accuracy_score(y_pred,y_test) # Logistic Regression"
   ]
  },
  {
   "cell_type": "code",
   "execution_count": 33,
   "metadata": {
    "colab": {},
    "colab_type": "code",
    "id": "PF8JgDwsznUt",
    "outputId": "2bb7cc08-0715-4177-956f-131d687ae142"
   },
   "outputs": [
    {
     "data": {
      "text/plain": [
       "0.927"
      ]
     },
     "execution_count": 33,
     "metadata": {},
     "output_type": "execute_result"
    }
   ],
   "source": [
    "x_train, x_test, y_train, y_test = train_test_split(    \n",
    "    x_DPT, y, test_size=0.1, random_state=43)\n",
    "lr1 = LogisticRegression()\n",
    "lr1.fit(x_train,y_train)\n",
    "y_pred=lr1.predict(x_test)\n",
    "metrics.accuracy_score(y_pred,y_test) # More training data"
   ]
  },
  {
   "cell_type": "code",
   "execution_count": 34,
   "metadata": {
    "colab": {},
    "colab_type": "code",
    "id": "_Mv1r5mIznUv",
    "outputId": "44879aa8-23ac-4f35-ecde-0e5e88ad96eb"
   },
   "outputs": [
    {
     "data": {
      "text/plain": [
       "0.881"
      ]
     },
     "execution_count": 34,
     "metadata": {},
     "output_type": "execute_result"
    }
   ],
   "source": [
    "x_train, x_test, y_train, y_test = train_test_split(    \n",
    "    x_DPT, y, test_size=0.1) #random state constant\n",
    "lr1 = LogisticRegression()\n",
    "lr1.fit(x_train,y_train)\n",
    "y_pred=lr1.predict(x_test)\n",
    "metrics.accuracy_score(y_pred,y_test) "
   ]
  },
  {
   "cell_type": "code",
   "execution_count": 35,
   "metadata": {
    "colab": {},
    "colab_type": "code",
    "id": "w1qln7b0znUx",
    "outputId": "db454357-e277-4894-e538-41840796dfc3"
   },
   "outputs": [
    {
     "data": {
      "text/plain": [
       "0.808"
      ]
     },
     "execution_count": 35,
     "metadata": {},
     "output_type": "execute_result"
    }
   ],
   "source": [
    "NB = BernoulliNB()\n",
    "NB.fit(x_train,y_train)\n",
    "y_pred=NB.predict(x_test)\n",
    "metrics.accuracy_score(y_pred,y_test) # Naive Bayes"
   ]
  },
  {
   "cell_type": "code",
   "execution_count": 36,
   "metadata": {
    "colab": {},
    "colab_type": "code",
    "id": "0SyPZT7NznU0",
    "outputId": "7a7174d8-524a-42ea-de46-f03cc7c3a304"
   },
   "outputs": [
    {
     "name": "stderr",
     "output_type": "stream",
     "text": [
      "/home/gang/anaconda3/lib/python3.6/site-packages/sklearn/ensemble/weight_boosting.py:29: DeprecationWarning: numpy.core.umath_tests is an internal NumPy module and should not be imported. It will be removed in a future NumPy release.\n",
      "  from numpy.core.umath_tests import inner1d\n"
     ]
    },
    {
     "data": {
      "text/plain": [
       "0.843"
      ]
     },
     "execution_count": 36,
     "metadata": {},
     "output_type": "execute_result"
    }
   ],
   "source": [
    "from sklearn.ensemble import RandomForestClassifier\n",
    "rf1 = RandomForestClassifier(n_estimators=100,max_features=20)\n",
    "rf1.fit(x_train,y_train)\n",
    "y_pred=rf1.predict(x_test)\n",
    "metrics.accuracy_score(y_pred,y_test) # Random Forest"
   ]
  },
  {
   "cell_type": "code",
   "execution_count": 37,
   "metadata": {
    "colab": {},
    "colab_type": "code",
    "id": "ST4f60LzznU2",
    "outputId": "ea8d4182-5e57-44bb-ba81-f3aa3962172c"
   },
   "outputs": [
    {
     "data": {
      "text/plain": [
       "0.9624444444444444"
      ]
     },
     "execution_count": 37,
     "metadata": {},
     "output_type": "execute_result"
    }
   ],
   "source": [
    "y_pred=rf1.predict(x_train)\n",
    "metrics.accuracy_score(y_pred,y_train) # Train error"
   ]
  },
  {
   "cell_type": "code",
   "execution_count": 38,
   "metadata": {
    "colab": {},
    "colab_type": "code",
    "id": "gp_Ep4EjznU6",
    "outputId": "63b526e8-2d68-49df-db9f-da49808646c6"
   },
   "outputs": [
    {
     "data": {
      "text/plain": [
       "0.869"
      ]
     },
     "execution_count": 38,
     "metadata": {},
     "output_type": "execute_result"
    }
   ],
   "source": [
    "from sklearn.neighbors import KNeighborsClassifier\n",
    "neigh = KNeighborsClassifier(n_neighbors=5)\n",
    "neigh.fit(x_train, y_train)\n",
    "y_pred=neigh.predict(x_test)\n",
    "metrics.accuracy_score(y_pred,y_test) # KNN"
   ]
  },
  {
   "cell_type": "markdown",
   "metadata": {
    "colab_type": "text",
    "id": "7hasP3IbznU8"
   },
   "source": [
    "## Predictions on test set\n",
    "Finally I choose department as the feature，Reasons: 1.Low dimensionality  2. High capability in generalization"
   ]
  },
  {
   "cell_type": "code",
   "execution_count": 41,
   "metadata": {
    "colab": {},
    "colab_type": "code",
    "id": "QArgNQ05znU9",
    "outputId": "873019c7-4e00-4466-9a32-3238acebb476"
   },
   "outputs": [
    {
     "data": {
      "text/plain": [
       "['train_model.m']"
      ]
     },
     "execution_count": 41,
     "metadata": {},
     "output_type": "execute_result"
    }
   ],
   "source": [
    "\n",
    "LR = LogisticRegression()\n",
    "LR.fit(x_DPT, y)\n",
    "from sklearn.externals import joblib\n",
    "joblib.dump(LR, \"train_model.m\")"
   ]
  },
  {
   "cell_type": "code",
   "execution_count": 42,
   "metadata": {
    "colab": {},
    "colab_type": "code",
    "id": "zzpTPfwsznU_"
   },
   "outputs": [],
   "source": [
    "#Doing the same encoding as in training set, to be coherent\n",
    "columns = list(pd.get_dummies(df[\"Courese_DPT\"]).columns)\n",
    "file_handle =open('DPT.txt',mode='w')\n",
    "for column in columns:\n",
    "    file_handle.write(column)\n",
    "    file_handle.write('\\n')\n",
    "file_handle.close()"
   ]
  },
  {
   "cell_type": "code",
   "execution_count": 43,
   "metadata": {
    "colab": {},
    "colab_type": "code",
    "id": "fB9_RyS0znVB",
    "outputId": "2cbe39d4-47d6-4faf-c237-5f82b72eb781"
   },
   "outputs": [
    {
     "data": {
      "text/plain": [
       "Index(['006', 'ABRD', 'ACB', 'ACCT', 'ACTS', 'AERO', 'AFAM', 'AINS', 'AMST',\n",
       "       'ANIM',\n",
       "       ...\n",
       "       'THTR', 'TR', 'TRNS', 'UHSG', 'UICB', 'ULIB', 'URES', 'URP', 'WLLC',\n",
       "       'WRIT'],\n",
       "      dtype='object', length=182)"
      ]
     },
     "execution_count": 43,
     "metadata": {},
     "output_type": "execute_result"
    }
   ],
   "source": [
    "pd.get_dummies(df[\"Courese_DPT\"]).columns"
   ]
  },
  {
   "cell_type": "code",
   "execution_count": 44,
   "metadata": {
    "colab": {},
    "colab_type": "code",
    "id": "maoWihXSznVD",
    "outputId": "ec52c067-caed-4a22-d004-ebf7eedcc289"
   },
   "outputs": [
    {
     "data": {
      "text/plain": [
       "['LabelEncoder.m']"
      ]
     },
     "execution_count": 44,
     "metadata": {},
     "output_type": "execute_result"
    }
   ],
   "source": [
    "joblib.dump(le, \"LabelEncoder.m\")"
   ]
  },
  {
   "cell_type": "code",
   "execution_count": 45,
   "metadata": {},
   "outputs": [
    {
     "data": {
      "text/plain": [
       "['PCA.m']"
      ]
     },
     "execution_count": 45,
     "metadata": {},
     "output_type": "execute_result"
    }
   ],
   "source": [
    "joblib.dump(lda_clf,\"LDA.m\")\n",
    "joblib.dump(pca,\"PCA.m\")"
   ]
  },
  {
   "cell_type": "markdown",
   "metadata": {
    "colab_type": "text",
    "id": "65gJYLluznVI"
   },
   "source": [
    "### When in use, load model and do same preprocess on test data . Get the map from id to major"
   ]
  },
  {
   "cell_type": "code",
   "execution_count": 0,
   "metadata": {
    "colab": {},
    "colab_type": "code",
    "id": "whdKQB4YznVJ"
   },
   "outputs": [],
   "source": [
    "clf = joblib.load(\"train_model.m\") # load model\n",
    "le = joblib.load(\"LabelEncoder.m\")\n",
    "test_csv = \"training.csv\"  #test set\n",
    "test_df = pd.read_csv(test_csv,sep=\"|\") #read data\n",
    "\n",
    "file_handler =open('DPT.txt',mode='r')\n",
    "columns = []\n",
    "contents = file_handler.readlines()\n",
    "for column in contents:\n",
    "    column = column.strip('\\n')\n",
    "    columns.append(column)\n",
    "file_handler.close()    "
   ]
  },
  {
   "cell_type": "code",
   "execution_count": 0,
   "metadata": {
    "colab": {},
    "colab_type": "code",
    "id": "Ep2i0VVCznVO"
   },
   "outputs": [],
   "source": [
    "test_df[\"Courese_DPT\"] = test_df[\"course\"].apply(lambda x: x.split(sep=\":\")[0])#Set the department code in course code as a feature\n",
    "\n",
    "for column in columns:\n",
    "    test_df[column] = test_df[\"Courese_DPT\"].apply(lambda x:1 if x==column else 0)#lambda x:x+1 if  2==1 else 0"
   ]
  },
  {
   "cell_type": "code",
   "execution_count": 0,
   "metadata": {
    "colab": {},
    "colab_type": "code",
    "id": "DkBvjLdBznVP",
    "outputId": "faae6e8e-85fb-4dae-de39-1c098c23d922"
   },
   "outputs": [
    {
     "data": {
      "text/html": [
       "<div>\n",
       "<style scoped>\n",
       "    .dataframe tbody tr th:only-of-type {\n",
       "        vertical-align: middle;\n",
       "    }\n",
       "\n",
       "    .dataframe tbody tr th {\n",
       "        vertical-align: top;\n",
       "    }\n",
       "\n",
       "    .dataframe thead th {\n",
       "        text-align: right;\n",
       "    }\n",
       "</style>\n",
       "<table border=\"1\" class=\"dataframe\">\n",
       "  <thead>\n",
       "    <tr style=\"text-align: right;\">\n",
       "      <th></th>\n",
       "      <th>student_id</th>\n",
       "      <th>level</th>\n",
       "      <th>course</th>\n",
       "      <th>grade</th>\n",
       "      <th>major</th>\n",
       "      <th>Courese_DPT</th>\n",
       "      <th>006</th>\n",
       "      <th>ABRD</th>\n",
       "      <th>ACB</th>\n",
       "      <th>ACCT</th>\n",
       "      <th>...</th>\n",
       "      <th>THTR</th>\n",
       "      <th>TR</th>\n",
       "      <th>TRNS</th>\n",
       "      <th>UHSG</th>\n",
       "      <th>UICB</th>\n",
       "      <th>ULIB</th>\n",
       "      <th>URES</th>\n",
       "      <th>URP</th>\n",
       "      <th>WLLC</th>\n",
       "      <th>WRIT</th>\n",
       "    </tr>\n",
       "  </thead>\n",
       "  <tbody>\n",
       "    <tr>\n",
       "      <th>0</th>\n",
       "      <td>ppVGBRKhtqqyxnVO</td>\n",
       "      <td>Freshman</td>\n",
       "      <td>SPAN:100</td>\n",
       "      <td>A</td>\n",
       "      <td>Business</td>\n",
       "      <td>SPAN</td>\n",
       "      <td>0</td>\n",
       "      <td>0</td>\n",
       "      <td>0</td>\n",
       "      <td>0</td>\n",
       "      <td>...</td>\n",
       "      <td>0</td>\n",
       "      <td>0</td>\n",
       "      <td>0</td>\n",
       "      <td>0</td>\n",
       "      <td>0</td>\n",
       "      <td>0</td>\n",
       "      <td>0</td>\n",
       "      <td>0</td>\n",
       "      <td>0</td>\n",
       "      <td>0</td>\n",
       "    </tr>\n",
       "    <tr>\n",
       "      <th>1</th>\n",
       "      <td>PiPkSgMGbFIu5RwR</td>\n",
       "      <td>Freshman</td>\n",
       "      <td>CSI:160</td>\n",
       "      <td>S</td>\n",
       "      <td>International Relations</td>\n",
       "      <td>CSI</td>\n",
       "      <td>0</td>\n",
       "      <td>0</td>\n",
       "      <td>0</td>\n",
       "      <td>0</td>\n",
       "      <td>...</td>\n",
       "      <td>0</td>\n",
       "      <td>0</td>\n",
       "      <td>0</td>\n",
       "      <td>0</td>\n",
       "      <td>0</td>\n",
       "      <td>0</td>\n",
       "      <td>0</td>\n",
       "      <td>0</td>\n",
       "      <td>0</td>\n",
       "      <td>0</td>\n",
       "    </tr>\n",
       "    <tr>\n",
       "      <th>2</th>\n",
       "      <td>PiPkSgMGbFIu5RwR</td>\n",
       "      <td>Sophomore</td>\n",
       "      <td>EES:107</td>\n",
       "      <td>C</td>\n",
       "      <td>International Relations</td>\n",
       "      <td>EES</td>\n",
       "      <td>0</td>\n",
       "      <td>0</td>\n",
       "      <td>0</td>\n",
       "      <td>0</td>\n",
       "      <td>...</td>\n",
       "      <td>0</td>\n",
       "      <td>0</td>\n",
       "      <td>0</td>\n",
       "      <td>0</td>\n",
       "      <td>0</td>\n",
       "      <td>0</td>\n",
       "      <td>0</td>\n",
       "      <td>0</td>\n",
       "      <td>0</td>\n",
       "      <td>0</td>\n",
       "    </tr>\n",
       "    <tr>\n",
       "      <th>3</th>\n",
       "      <td>PiPkSgMGbFIu5RwR</td>\n",
       "      <td>Senior</td>\n",
       "      <td>SPAN:201</td>\n",
       "      <td>B</td>\n",
       "      <td>International Relations</td>\n",
       "      <td>SPAN</td>\n",
       "      <td>0</td>\n",
       "      <td>0</td>\n",
       "      <td>0</td>\n",
       "      <td>0</td>\n",
       "      <td>...</td>\n",
       "      <td>0</td>\n",
       "      <td>0</td>\n",
       "      <td>0</td>\n",
       "      <td>0</td>\n",
       "      <td>0</td>\n",
       "      <td>0</td>\n",
       "      <td>0</td>\n",
       "      <td>0</td>\n",
       "      <td>0</td>\n",
       "      <td>0</td>\n",
       "    </tr>\n",
       "    <tr>\n",
       "      <th>4</th>\n",
       "      <td>PiPkSgMGbFIu5RwR</td>\n",
       "      <td>Junior</td>\n",
       "      <td>ENTR:200</td>\n",
       "      <td>B+</td>\n",
       "      <td>International Relations</td>\n",
       "      <td>ENTR</td>\n",
       "      <td>0</td>\n",
       "      <td>0</td>\n",
       "      <td>0</td>\n",
       "      <td>0</td>\n",
       "      <td>...</td>\n",
       "      <td>0</td>\n",
       "      <td>0</td>\n",
       "      <td>0</td>\n",
       "      <td>0</td>\n",
       "      <td>0</td>\n",
       "      <td>0</td>\n",
       "      <td>0</td>\n",
       "      <td>0</td>\n",
       "      <td>0</td>\n",
       "      <td>0</td>\n",
       "    </tr>\n",
       "  </tbody>\n",
       "</table>\n",
       "<p>5 rows × 188 columns</p>\n",
       "</div>"
      ],
      "text/plain": [
       "         student_id      level    course grade                    major  \\\n",
       "0  ppVGBRKhtqqyxnVO   Freshman  SPAN:100     A                 Business   \n",
       "1  PiPkSgMGbFIu5RwR   Freshman   CSI:160     S  International Relations   \n",
       "2  PiPkSgMGbFIu5RwR  Sophomore   EES:107     C  International Relations   \n",
       "3  PiPkSgMGbFIu5RwR     Senior  SPAN:201     B  International Relations   \n",
       "4  PiPkSgMGbFIu5RwR     Junior  ENTR:200    B+  International Relations   \n",
       "\n",
       "  Courese_DPT  006  ABRD  ACB  ACCT  ...   THTR  TR  TRNS  UHSG  UICB  ULIB  \\\n",
       "0        SPAN    0     0    0     0  ...      0   0     0     0     0     0   \n",
       "1         CSI    0     0    0     0  ...      0   0     0     0     0     0   \n",
       "2         EES    0     0    0     0  ...      0   0     0     0     0     0   \n",
       "3        SPAN    0     0    0     0  ...      0   0     0     0     0     0   \n",
       "4        ENTR    0     0    0     0  ...      0   0     0     0     0     0   \n",
       "\n",
       "   URES  URP  WLLC  WRIT  \n",
       "0     0    0     0     0  \n",
       "1     0    0     0     0  \n",
       "2     0    0     0     0  \n",
       "3     0    0     0     0  \n",
       "4     0    0     0     0  \n",
       "\n",
       "[5 rows x 188 columns]"
      ]
     },
     "execution_count": 75,
     "metadata": {
      "tags": []
     },
     "output_type": "execute_result"
    }
   ],
   "source": [
    "test_df.head(5)"
   ]
  },
  {
   "cell_type": "code",
   "execution_count": 0,
   "metadata": {
    "colab": {},
    "colab_type": "code",
    "id": "wEbTSFB9znVT"
   },
   "outputs": [],
   "source": [
    "x = test_df.copy()\n",
    "\n",
    "for column in test_df.columns[1:6]:  #Delete all features not used\n",
    "    x.drop(column,axis=1,inplace = True)\n",
    "x = x.groupby(by =\"student_id\",as_index =False,sort = False).sum()\n",
    "ids = x[\"student_id\"]    \n",
    "x.drop(\"student_id\",axis =1,inplace = True)"
   ]
  },
  {
   "cell_type": "code",
   "execution_count": 0,
   "metadata": {
    "colab": {},
    "colab_type": "code",
    "id": "2-MxMN89znVU",
    "outputId": "49037cb8-cb88-48a5-dba4-846415cbf6eb"
   },
   "outputs": [
    {
     "data": {
      "text/html": [
       "<div>\n",
       "<style scoped>\n",
       "    .dataframe tbody tr th:only-of-type {\n",
       "        vertical-align: middle;\n",
       "    }\n",
       "\n",
       "    .dataframe tbody tr th {\n",
       "        vertical-align: top;\n",
       "    }\n",
       "\n",
       "    .dataframe thead th {\n",
       "        text-align: right;\n",
       "    }\n",
       "</style>\n",
       "<table border=\"1\" class=\"dataframe\">\n",
       "  <thead>\n",
       "    <tr style=\"text-align: right;\">\n",
       "      <th></th>\n",
       "      <th>006</th>\n",
       "      <th>ABRD</th>\n",
       "      <th>ACB</th>\n",
       "      <th>ACCT</th>\n",
       "      <th>ACTS</th>\n",
       "      <th>AERO</th>\n",
       "      <th>AFAM</th>\n",
       "      <th>AINS</th>\n",
       "      <th>AMST</th>\n",
       "      <th>ANIM</th>\n",
       "      <th>...</th>\n",
       "      <th>THTR</th>\n",
       "      <th>TR</th>\n",
       "      <th>TRNS</th>\n",
       "      <th>UHSG</th>\n",
       "      <th>UICB</th>\n",
       "      <th>ULIB</th>\n",
       "      <th>URES</th>\n",
       "      <th>URP</th>\n",
       "      <th>WLLC</th>\n",
       "      <th>WRIT</th>\n",
       "    </tr>\n",
       "  </thead>\n",
       "  <tbody>\n",
       "    <tr>\n",
       "      <th>0</th>\n",
       "      <td>0</td>\n",
       "      <td>0</td>\n",
       "      <td>0</td>\n",
       "      <td>0</td>\n",
       "      <td>0</td>\n",
       "      <td>0</td>\n",
       "      <td>0</td>\n",
       "      <td>0</td>\n",
       "      <td>0</td>\n",
       "      <td>0</td>\n",
       "      <td>...</td>\n",
       "      <td>0</td>\n",
       "      <td>0</td>\n",
       "      <td>0</td>\n",
       "      <td>0</td>\n",
       "      <td>0</td>\n",
       "      <td>0</td>\n",
       "      <td>0</td>\n",
       "      <td>0</td>\n",
       "      <td>0</td>\n",
       "      <td>0</td>\n",
       "    </tr>\n",
       "  </tbody>\n",
       "</table>\n",
       "<p>1 rows × 182 columns</p>\n",
       "</div>"
      ],
      "text/plain": [
       "   006  ABRD  ACB  ACCT  ACTS  AERO  AFAM  AINS  AMST  ANIM  ...   THTR  TR  \\\n",
       "0    0     0    0     0     0     0     0     0     0     0  ...      0   0   \n",
       "\n",
       "   TRNS  UHSG  UICB  ULIB  URES  URP  WLLC  WRIT  \n",
       "0     0     0     0     0     0    0     0     0  \n",
       "\n",
       "[1 rows x 182 columns]"
      ]
     },
     "execution_count": 81,
     "metadata": {
      "tags": []
     },
     "output_type": "execute_result"
    }
   ],
   "source": [
    "x.head(1)"
   ]
  },
  {
   "cell_type": "code",
   "execution_count": 0,
   "metadata": {
    "colab": {},
    "colab_type": "code",
    "id": "7wbCvs1lznVZ",
    "outputId": "0ae02842-d6b8-4f13-f617-61088e0ca23f"
   },
   "outputs": [
    {
     "name": "stderr",
     "output_type": "stream",
     "text": [
      "C:\\Users\\Gang\\AppData\\Local\\Continuum\\Anaconda3\\envs\\py36\\lib\\site-packages\\sklearn\\preprocessing\\label.py:171: DeprecationWarning: The truth value of an empty array is ambiguous. Returning False, but in future this will result in an error. Use `array.size > 0` to check that an array is not empty.\n",
      "  if diff:\n"
     ]
    }
   ],
   "source": [
    "y_pred = clf.predict(x) \n",
    "df = {\"student_id\":ids,\"major\":le.inverse_transform(y_pred)}"
   ]
  }
 ],
 "metadata": {
  "colab": {
   "name": "Writeup.ipynb",
   "provenance": [],
   "version": "0.3.2"
  },
  "kernelspec": {
   "display_name": "Python 3",
   "language": "python",
   "name": "python3"
  },
  "language_info": {
   "codemirror_mode": {
    "name": "ipython",
    "version": 3
   },
   "file_extension": ".py",
   "mimetype": "text/x-python",
   "name": "python",
   "nbconvert_exporter": "python",
   "pygments_lexer": "ipython3",
   "version": "3.6.8"
  }
 },
 "nbformat": 4,
 "nbformat_minor": 1
}
